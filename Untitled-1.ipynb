{
 "cells": [
  {
   "cell_type": "code",
   "execution_count": null,
   "metadata": {},
   "outputs": [],
   "source": [
    "import numpy as np\n",
    "import random\n",
    "\n",
    "Barcos = {\"Portaaviones\": 4,\n",
    "          \"Destructor\" : 3,\n",
    "          \"Acorazado\" : 2,\n",
    "          \"Fragata\" : 1\n",
    "          }\n",
    "filas = 10\n",
    "columnas = 10\n",
    "vidas = 20\n",
    "agua = \" \"\n",
    "barco = 'O'\n",
    "fallo = '-'\n",
    "tocado = 'X'"
   ]
  },
  {
   "cell_type": "code",
   "execution_count": null,
   "metadata": {},
   "outputs": [],
   "source": [
    "\n",
    "\n",
    "\n",
    "class Tablero:\n",
    "\n",
    "    def __init__(self,jugador,filas,columnas,Barcos):\n",
    "\n",
    "        self.jugador = jugador\n",
    "        self.filas = filas\n",
    "        self.columnas = columnas\n",
    "        self.matriz = np.full((filas,columnas),agua)\n",
    "        self.Barcos = Barcos\n",
    "\n",
    "    def barcos_cpu(self, Barcos):\n",
    "        tablero = np.full((10,10),agua)\n",
    "        eslora = Barcos.values()\n",
    "\n",
    "\n",
    "        while True:\n",
    "            # 'N' - 'S' - 'E' - 'O'\n",
    "            orient = random.choice(['N', 'S', 'E', 'O'])\n",
    "\n",
    "            # Posicion inicial del barco\n",
    "            current_pos = np.random.randint(10, size = 2)\n",
    "    \n",
    "            fila = current_pos[0]\n",
    "            col = current_pos[1]\n",
    "    \n",
    "         # Recogemos las 4 posiciones colindantes a current_pos\n",
    "            coors_posiN = tablero[fila:fila - eslora:-1, col]\n",
    "            coors_posiE = tablero[fila, col: col + eslora]\n",
    "            coors_posiS = tablero[fila:fila + eslora, col]\n",
    "            coors_posiO = tablero[fila, col: col - eslora:-1]\n",
    "    \n",
    "            # Comprobamos si esas posiciones son validas\n",
    "            # Orientacion Norte\n",
    "            if orient == 'N' and 0 <= fila - eslora < 10 and 'O' not in coors_posiN:\n",
    "                tablero[fila:fila - eslora:-1, col] = 'O'\n",
    "                break\n",
    "\n",
    "            # Orientacion Este\n",
    "            elif orient == 'E' and 0 <= col + eslora < 10 and 'O' not in coors_posiE:\n",
    "                tablero[fila, col: col + eslora] = 'O'\n",
    "                break\n",
    "\n",
    "            # Orientacion Sur\n",
    "            elif orient == 'S' and 0 <= fila + eslora < 10 and 'O' not in coors_posiS:\n",
    "                tablero[fila:fila + eslora, col] = 'O'\n",
    "                break\n",
    "\n",
    "            # Orientacion Oeste\n",
    "            elif orient == 'O' and 0 <= col - eslora < 10 and 'O' not in coors_posiO:\n",
    "                tablero[fila, col: col - eslora:-1] = 'O'\n",
    "                break\n",
    "\n",
    "            # No cumple con las dimensiones del tablero, o hay un barco ahi\n",
    "            # Probamos con otra coordenada\n",
    "            else:\n",
    "                continue\n",
    "\n",
    "\n",
    "tablero= Tablero(\"cpu\",filas,columnas,Barcos)           \n",
    "            \n",
    "\n",
    "\n",
    "    \n"
   ]
  },
  {
   "cell_type": "code",
   "execution_count": null,
   "metadata": {},
   "outputs": [],
   "source": [
    "\n",
    "tablero = np.full((10,10), \" \")\n",
    "eslora = 4\n",
    "while True:\n",
    "    # 'N' - 'S' - 'E' - 'O'\n",
    "    orient = random.choice(['N', 'S', 'E', 'O'])\n",
    "\n",
    "    # Posicion inicial del barco\n",
    "    current_pos = np.random.randint(10, size = 2)\n",
    "    \n",
    "    fila = current_pos[0]\n",
    "    col = current_pos[1]\n",
    "    \n",
    "    # Recogemos las 4 posiciones colindantes a current_pos\n",
    "    coors_posiN = tablero[fila:fila - eslora:-1, col]\n",
    "    coors_posiE = tablero[fila, col: col + eslora]\n",
    "    coors_posiS = tablero[fila:fila + eslora, col]\n",
    "    coors_posiO = tablero[fila, col: col - eslora:-1]\n",
    "    \n",
    "    # Comprobamos si esas posiciones son validas\n",
    "    # Orientacion Norte\n",
    "    if orient == 'N' and 0 <= fila - eslora < 10 and 'O' not in coors_posiN:\n",
    "        tablero[fila:fila - eslora:-1, col] = 'O'\n",
    "        break\n",
    "\n",
    "    # Orientacion Este\n",
    "    elif orient == 'E' and 0 <= col + eslora < 10 and 'O' not in coors_posiE:\n",
    "        tablero[fila, col: col + eslora] = 'O'\n",
    "        break\n",
    "\n",
    "    # Orientacion Sur\n",
    "    elif orient == 'S' and 0 <= fila + eslora < 10 and 'O' not in coors_posiS:\n",
    "        tablero[fila:fila + eslora, col] = 'O'\n",
    "        break\n",
    "\n",
    "    # Orientacion Oeste\n",
    "    elif orient == 'O' and 0 <= col - eslora < 10 and 'O' not in coors_posiO:\n",
    "        tablero[fila, col: col - eslora:-1] = 'O'\n",
    "        break\n",
    "\n",
    "    # No cumple con las dimensiones del tablero, o hay un barco ahi\n",
    "    # Probamos con otra coordenada\n",
    "    else:\n",
    "        continue\n",
    "\n",
    "print(tablero)"
   ]
  },
  {
   "cell_type": "code",
   "execution_count": 19,
   "metadata": {},
   "outputs": [
    {
     "name": "stdout",
     "output_type": "stream",
     "text": [
      "6\n",
      "9\n"
     ]
    },
    {
     "data": {
      "text/plain": [
       "array([[' ', ' ', ' ', ' ', ' ', ' ', ' ', ' ', ' ', ' '],\n",
       "       [' ', ' ', ' ', ' ', ' ', ' ', ' ', ' ', ' ', ' '],\n",
       "       [' ', ' ', ' ', ' ', ' ', ' ', ' ', ' ', ' ', ' '],\n",
       "       [' ', ' ', ' ', ' ', ' ', ' ', ' ', ' ', ' ', ' '],\n",
       "       [' ', ' ', ' ', ' ', ' ', ' ', ' ', ' ', ' ', ' '],\n",
       "       [' ', ' ', ' ', ' ', ' ', ' ', ' ', ' ', ' ', ' '],\n",
       "       ['-', '-', '-', '-', '-', '-', '-', '-', '-', '-'],\n",
       "       [' ', ' ', ' ', ' ', ' ', ' ', ' ', ' ', ' ', ' '],\n",
       "       [' ', ' ', ' ', ' ', ' ', ' ', ' ', ' ', ' ', ' '],\n",
       "       ['-', '-', '-', '-', '-', '-', '-', '-', '-', '-']], dtype='<U1')"
      ]
     },
     "execution_count": 19,
     "metadata": {},
     "output_type": "execute_result"
    }
   ],
   "source": [
    "tablero = np.full((filas,columnas), agua)\n",
    "\n",
    "\n",
    "\n",
    "def disparo_cpu():\n",
    "\n",
    "    disparo_pos = np.random.randint(10, size = 2)\n",
    "    fila = disparo_pos[0]\n",
    "    col = disparo_pos[1]\n",
    "    print(fila)\n",
    "    print(col)\n",
    "    if tablero [fila,col]== agua:\n",
    "        tablero[disparo_pos]= fallo\n",
    "    elif tablero [disparo_pos[0]] == barco:\n",
    "        tablero[disparo_pos] = tocado\n",
    "    \n",
    "    return tablero\n",
    "\n",
    "\n",
    "\n",
    "\n",
    "disparo_cpu()"
   ]
  },
  {
   "cell_type": "code",
   "execution_count": 25,
   "metadata": {},
   "outputs": [
    {
     "data": {
      "text/plain": [
       "array([[' ', ' ', ' ', ' ', ' ', ' ', ' ', ' ', ' ', ' '],\n",
       "       [' ', ' ', ' ', ' ', ' ', ' ', ' ', ' ', ' ', ' '],\n",
       "       [' ', ' ', ' ', ' ', ' ', ' ', ' ', ' ', ' ', ' '],\n",
       "       [' ', ' ', ' ', ' ', ' ', ' ', ' ', ' ', ' ', ' '],\n",
       "       [' ', ' ', ' ', ' ', ' ', ' ', ' ', ' ', ' ', ' '],\n",
       "       [' ', ' ', ' ', ' ', ' ', ' ', ' ', ' ', ' ', ' '],\n",
       "       [' ', ' ', ' ', ' ', ' ', ' ', ' ', ' ', ' ', ' '],\n",
       "       [' ', ' ', ' ', ' ', ' ', ' ', ' ', ' ', ' ', ' '],\n",
       "       [' ', ' ', ' ', ' ', ' ', ' ', ' ', ' ', ' ', ' '],\n",
       "       [' ', ' ', ' ', ' ', ' ', ' ', ' ', ' ', ' ', '-']], dtype='<U1')"
      ]
     },
     "execution_count": 25,
     "metadata": {},
     "output_type": "execute_result"
    }
   ],
   "source": [
    "tablero = np.full((filas,columnas), agua)\n",
    "\n",
    "\n",
    "def disparo_jugador():\n",
    "    x = int(input(\"Introduzca primera coordenada: \"))\n",
    "    y = int(input(\"Introduzca segunda coordenada: \"))\n",
    "    if tablero [x,y]== agua:\n",
    "        tablero[x,y]= fallo\n",
    "    elif tablero [x,y] == barco:\n",
    "        tablero[x,y] = tocado\n",
    "    \n",
    "    return tablero\n",
    "\n",
    "\n",
    "disparo_jugador()"
   ]
  }
 ],
 "metadata": {
  "kernelspec": {
   "display_name": "Python 3",
   "language": "python",
   "name": "python3"
  },
  "language_info": {
   "codemirror_mode": {
    "name": "ipython",
    "version": 3
   },
   "file_extension": ".py",
   "mimetype": "text/x-python",
   "name": "python",
   "nbconvert_exporter": "python",
   "pygments_lexer": "ipython3",
   "version": "3.7.4"
  },
  "orig_nbformat": 4,
  "vscode": {
   "interpreter": {
    "hash": "f83ab85df32d4ccd83c674229901ae02cdf57bc367d0c7becd49568251bb31c1"
   }
  }
 },
 "nbformat": 4,
 "nbformat_minor": 2
}
